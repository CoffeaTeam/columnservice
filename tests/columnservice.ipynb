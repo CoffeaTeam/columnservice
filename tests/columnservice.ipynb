{
 "cells": [
  {
   "cell_type": "code",
   "execution_count": 1,
   "metadata": {},
   "outputs": [],
   "source": [
    "from coffea.columnservice import ColumnClient\n",
    "cc = ColumnClient()\n",
    "api = cc._api"
   ]
  },
  {
   "cell_type": "code",
   "execution_count": 2,
   "metadata": {},
   "outputs": [
    {
     "data": {
      "text/plain": [
       "[]"
      ]
     },
     "execution_count": 2,
     "metadata": {},
     "output_type": "execute_result"
    }
   ],
   "source": [
    "[x['name'] for x in api.get('columnsets').json()]"
   ]
  },
  {
   "cell_type": "code",
   "execution_count": 3,
   "metadata": {},
   "outputs": [
    {
     "data": {
      "text/plain": [
       "{'name': 'TTTo2L2Nu-powheg-2017',\n",
       " 'source': 'dbs-global',\n",
       " 'type': 'mc',\n",
       " 'nfiles': 63,\n",
       " 'pathexpr': '/TTTo2L2Nu_TuneCP5_PSweights_13TeV-powheg-pythia8/RunIIFall17NanoAODv6-PU2017_12Apr2018_Nano25Oct2019_new_pmx_102X_mc2017_realistic_v7-v1/NANOAODSIM',\n",
       " 'prep_id': 'TOP-RunIIFall17NanoAODv6-00179'}"
      ]
     },
     "execution_count": 3,
     "metadata": {},
     "output_type": "execute_result"
    }
   ],
   "source": [
    "data = {\n",
    "    'name': 'TTTo2L2Nu-powheg-2017',\n",
    "    'source': 'dbs-global',\n",
    "    'type': 'mc',\n",
    "    'pathexpr': '/TTTo2L2Nu_TuneCP5_PSweights_13TeV-powheg-pythia8/RunIIFall17NanoAODv6-PU2017_12Apr2018_Nano25Oct2019_new_pmx_102X_mc2017_realistic_v7-v1/NANOAODSIM',\n",
    "}\n",
    "api.post('datasets', json=data).json()"
   ]
  },
  {
   "cell_type": "code",
   "execution_count": 4,
   "metadata": {},
   "outputs": [
    {
     "data": {
      "text/plain": [
       "{'name': 'WW-pythia-2017',\n",
       " 'source': 'dbs-global',\n",
       " 'type': 'mc',\n",
       " 'nfiles': 5,\n",
       " 'pathexpr': '/WW_TuneCP5_13TeV-pythia8/RunIIFall17NanoAODv6-PU2017_12Apr2018_Nano25Oct2019_102X_mc2017_realistic_v7-v1/NANOAODSIM',\n",
       " 'prep_id': 'B2G-RunIIFall17NanoAODv6-00001'}"
      ]
     },
     "execution_count": 4,
     "metadata": {},
     "output_type": "execute_result"
    }
   ],
   "source": [
    "data = {\n",
    "    'name': 'WW-pythia-2017',\n",
    "    'source': 'dbs-global',\n",
    "    'type': 'mc',\n",
    "    'pathexpr': '/WW_TuneCP5_13TeV-pythia8/RunIIFall17NanoAODv6-PU2017_12Apr2018_Nano25Oct2019_102X_mc2017_realistic_v7-v1/NANOAODSIM'\n",
    "}\n",
    "api.post('datasets', json=data).json()"
   ]
  },
  {
   "cell_type": "code",
   "execution_count": 5,
   "metadata": {},
   "outputs": [
    {
     "data": {
      "text/plain": [
       "{'name': 'WZ-pythia-2017',\n",
       " 'source': 'dbs-global',\n",
       " 'type': 'mc',\n",
       " 'nfiles': 4,\n",
       " 'pathexpr': '/WZ_TuneCP5_13TeV-pythia8/RunIIFall17NanoAODv6-PU2017_12Apr2018_Nano25Oct2019_102X_mc2017_realistic_v7-v1/NANOAODSIM',\n",
       " 'prep_id': 'B2G-RunIIFall17NanoAODv6-02023'}"
      ]
     },
     "execution_count": 5,
     "metadata": {},
     "output_type": "execute_result"
    }
   ],
   "source": [
    "data = {\n",
    "    'name': 'WZ-pythia-2017',\n",
    "    'source': 'dbs-global',\n",
    "    'type': 'mc',\n",
    "    'pathexpr': '/WZ_TuneCP5_13TeV-pythia8/RunIIFall17NanoAODv6-PU2017_12Apr2018_Nano25Oct2019_102X_mc2017_realistic_v7-v1/NANOAODSIM'\n",
    "}\n",
    "api.post('datasets', json=data).json()"
   ]
  },
  {
   "cell_type": "code",
   "execution_count": 10,
   "metadata": {},
   "outputs": [
    {
     "data": {
      "text/plain": [
       "{'name': 'Sal',\n",
       " 'source': 'user',\n",
       " 'type': 'mc',\n",
       " 'nfiles': 7,\n",
       " 'pathexpr': None,\n",
       " 'prep_id': None}"
      ]
     },
     "execution_count": 10,
     "metadata": {},
     "output_type": "execute_result"
    }
   ],
   "source": [
    "data = {\n",
    "    'name': 'Sal',\n",
    "    'source': 'user',\n",
    "    'type': 'mc',\n",
    "    'pathexpr': [\n",
    "        '/store/mc/RunIIAutumn18NanoAODv5/TTJets_TuneCP5_13TeV-amcatnloFXFX-pythia8/NANOAODSIM/Nano1June2019_102X_upgrade2018_realistic_v19_ext1-v1/40000/0220EA9E-F4B2-6A48-8098-CE7938BBB939.root',\n",
    "        '/store/mc/RunIIAutumn18NanoAODv5/TTJets_TuneCP5_13TeV-amcatnloFXFX-pythia8/NANOAODSIM/Nano1June2019_102X_upgrade2018_realistic_v19_ext1-v1/40000/BA12C794-09C4-6F4C-9176-459A65C23F10.root',\n",
    "        '/store/mc/RunIIAutumn18NanoAODv5/TTJets_TuneCP5_13TeV-amcatnloFXFX-pythia8/NANOAODSIM/Nano1June2019_102X_upgrade2018_realistic_v19_ext1-v1/40000/78A348A5-D9AD-CB44-9F60-651F7A9E48ED.root',\n",
    "        '/store/mc/RunIIAutumn18NanoAODv5/TTJets_TuneCP5_13TeV-amcatnloFXFX-pythia8/NANOAODSIM/Nano1June2019_102X_upgrade2018_realistic_v19_ext1-v1/40000/99F5AF3E-4C47-C84A-AA2F-BA32359476EF.root',\n",
    "        '/store/mc/RunIIAutumn18NanoAODv5/TTJets_TuneCP5_13TeV-amcatnloFXFX-pythia8/NANOAODSIM/Nano1June2019_102X_upgrade2018_realistic_v19_ext1-v1/40000/AE2F6DF7-3395-4745-A449-79C0881C4C86.root',\n",
    "        '/store/mc/RunIIAutumn18NanoAODv5/TTJets_TuneCP5_13TeV-amcatnloFXFX-pythia8/NANOAODSIM/Nano1June2019_102X_upgrade2018_realistic_v19_ext1-v1/40000/1597000C-229D-714F-B626-897FCE31C835.root',\n",
    "        '/store/mc/RunIIAutumn18NanoAODv5/TTJets_TuneCP5_13TeV-amcatnloFXFX-pythia8/NANOAODSIM/Nano1June2019_102X_upgrade2018_realistic_v19_ext1-v1/40000/60350A4A-AECD-BF47-80D9-40CEB242E8A6.root',\n",
    "    ]\n",
    "}\n",
    "api.post('datasets', json=data).json()"
   ]
  },
  {
   "cell_type": "code",
   "execution_count": 10,
   "metadata": {},
   "outputs": [
    {
     "data": {
      "text/plain": [
       "['LuminosityBlocks-34b12ae', 'Runs-5e43b7a', 'Events-e08207c']"
      ]
     },
     "execution_count": 10,
     "metadata": {},
     "output_type": "execute_result"
    }
   ],
   "source": [
    "[c[\"name\"] for c in api.get('datasets/WW-pythia-2017/columnsets').json()]"
   ]
  },
  {
   "cell_type": "code",
   "execution_count": 11,
   "metadata": {
    "scrolled": true
   },
   "outputs": [],
   "source": [
    "from distributed import Client\n",
    "client = Client(\"tcp://dask-scheduler:8786\")"
   ]
  },
  {
   "cell_type": "code",
   "execution_count": 12,
   "metadata": {},
   "outputs": [],
   "source": [
    "def filterossf(col, input_columns):\n",
    "    import numpy\n",
    "    from coffea.nanoaod import NanoEvents\n",
    "    events = NanoEvents.from_arrays(input_columns.arrays())\n",
    "    ossf_electron = (events.Electron.counts == 2) & (events.Electron.charge.sum() == 0)\n",
    "    if col['name'] == 'Filter_OSSFelectron':\n",
    "        return ossf_electron\n",
    "    elif col['name'] == '_num':\n",
    "        return numpy.array(ossf_electron.sum())\n",
    "\n",
    "\n",
    "input_columns = [\"nElectron\", \"Electron_charge\"]\n",
    "output_columns = [\n",
    "    {\n",
    "        \"name\": \"Filter_OSSFelectron\",\n",
    "        \"dtype\": \"bool\",\n",
    "        \"dimension\": 1,\n",
    "        \"doc\": \"Events have exactly two opposite-sign same-flavor electrons\",\n",
    "    },\n",
    "]"
   ]
  },
  {
   "cell_type": "code",
   "execution_count": 13,
   "metadata": {},
   "outputs": [
    {
     "data": {
      "text/plain": [
       "'Events-e08207c-filterossf'"
      ]
     },
     "execution_count": 13,
     "metadata": {},
     "output_type": "execute_result"
    }
   ],
   "source": [
    "cc._api.delete(\"columnsets/Events-e08207c-filterossf\")\n",
    "cc._api.delete(\"generators/filterossf\")\n",
    "\n",
    "cc.register_generator(\n",
    "    filterossf,\n",
    "    \"Events-e08207c\",\n",
    "    input_columns,\n",
    "    output_columns\n",
    ")"
   ]
  },
  {
   "cell_type": "code",
   "execution_count": 14,
   "metadata": {},
   "outputs": [
    {
     "data": {
      "text/plain": [
       "'Events-e08207c-filterossf-nanofilter-Filter_OSSFelectron'"
      ]
     },
     "execution_count": 14,
     "metadata": {},
     "output_type": "execute_result"
    }
   ],
   "source": [
    "cc._api.delete(\"columnsets/Events-e08207c-filterossf-nanofilter-Filter_OSSFelectron\")\n",
    "cc._api.delete(\"generators/nanofilter-Filter_OSSFelectron\")\n",
    "\n",
    "cc.register_filter('Events-e08207c-filterossf', 'Filter_OSSFelectron')"
   ]
  },
  {
   "cell_type": "code",
   "execution_count": 15,
   "metadata": {},
   "outputs": [],
   "source": [
    "from coffea.columnservice import ColumnHelper\n",
    "from coffea.nanoaod import NanoEvents\n",
    "from coffea import hist\n",
    "\n",
    "def runstuff(partition):\n",
    "    events = NanoEvents.from_arrays(ColumnHelper(partition).arrays())\n",
    "    h = hist.Hist(\"Events\", hist.Bin(\"mass\", \"2-leading electron mass\", 120, 0, 120))\n",
    "    h.fill(mass=events.Electron.sum().mass)\n",
    "    return h"
   ]
  },
  {
   "cell_type": "code",
   "execution_count": 21,
   "metadata": {},
   "outputs": [],
   "source": [
    "import time\n",
    "\n",
    "tic = time.time() # \n",
    "partitions = cc._api.get('datasets/WZ-pythia-2017/columnsets/Events-e08207c/partitions').json()\n",
    "res = client.map(runstuff, partitions[:8])\n",
    "h = res.pop().result()\n",
    "while res:\n",
    "    h += res.pop().result()\n",
    "    \n",
    "toc = time.time()"
   ]
  },
  {
   "cell_type": "code",
   "execution_count": 22,
   "metadata": {},
   "outputs": [
    {
     "data": {
      "text/plain": [
       "{'skimredo2': 7961.7301993982055, 'skimredo': 690906.1255315312}"
      ]
     },
     "execution_count": 22,
     "metadata": {},
     "output_type": "execute_result"
    }
   ],
   "source": [
    "stats[\"skimredo\"] = 801960 / (toc - tic)\n",
    "stats"
   ]
  },
  {
   "cell_type": "code",
   "execution_count": 17,
   "metadata": {},
   "outputs": [
    {
     "data": {
      "text/plain": [
       "801960.0"
      ]
     },
     "execution_count": 17,
     "metadata": {},
     "output_type": "execute_result"
    }
   ],
   "source": [
    "entries = h.sum('mass', overflow='allnan').values()[()]\n",
    "stats = {}\n",
    "entries"
   ]
  },
  {
   "cell_type": "code",
   "execution_count": 63,
   "metadata": {},
   "outputs": [
    {
     "data": {
      "text/html": [
       "<table style=\"border: 2px solid white;\">\n",
       "<tr>\n",
       "<td style=\"vertical-align: top; border: 0px solid white\">\n",
       "<h3 style=\"text-align: left;\">Client</h3>\n",
       "<ul style=\"text-align: left; list-style: none; margin: 0; padding: 0;\">\n",
       "  <li><b>Scheduler: </b>tcp://dask-scheduler:8786</li>\n",
       "  <li><b>Dashboard: </b><a href='http://dask-scheduler:8787/status' target='_blank'>http://dask-scheduler:8787/status</a>\n",
       "</ul>\n",
       "</td>\n",
       "<td style=\"vertical-align: top; border: 0px solid white\">\n",
       "<h3 style=\"text-align: left;\">Cluster</h3>\n",
       "<ul style=\"text-align: left; list-style:none; margin: 0; padding: 0;\">\n",
       "  <li><b>Workers: </b>1</li>\n",
       "  <li><b>Cores: </b>4</li>\n",
       "  <li><b>Memory: </b>2.09 GB</li>\n",
       "</ul>\n",
       "</td>\n",
       "</tr>\n",
       "</table>"
      ],
      "text/plain": [
       "<Client: 'tcp://172.24.0.4:8786' processes=1 threads=4, memory=2.09 GB>"
      ]
     },
     "execution_count": 63,
     "metadata": {},
     "output_type": "execute_result"
    }
   ],
   "source": [
    "client.restart()"
   ]
  },
  {
   "cell_type": "code",
   "execution_count": 75,
   "metadata": {},
   "outputs": [
    {
     "data": {
      "text/plain": [
       "['000101891860396e11eab55d88a0a983beef/Events/0/100350/file/Electron_charge',\n",
       " '000101891860396e11eab55d88a0a983beef/Events/0/100350/file/Electron_eta',\n",
       " '000101891860396e11eab55d88a0a983beef/Events/0/100350/file/Electron_mass',\n",
       " '000101891860396e11eab55d88a0a983beef/Events/0/100350/file/Electron_phi',\n",
       " '000101891860396e11eab55d88a0a983beef/Events/0/100350/file/Electron_pt',\n",
       " '000101891860396e11eab55d88a0a983beef/Events/0/100350/file/_num',\n",
       " '000101891860396e11eab55d88a0a983beef/Events/0/100350/file/nElectron',\n",
       " '000101891860396e11eab55d88a0a983beef/Events/0/100350/filterossf/Filter_OSSFelectron',\n",
       " '000101891860396e11eab55d88a0a983beef/Events/0/100350/nanofilter-Filter_OSSFelectron/Electron_eta',\n",
       " '000101891860396e11eab55d88a0a983beef/Events/0/100350/nanofilter-Filter_OSSFelectron/Electron_mass',\n",
       " '000101891860396e11eab55d88a0a983beef/Events/0/100350/nanofilter-Filter_OSSFelectron/Electron_phi',\n",
       " '000101891860396e11eab55d88a0a983beef/Events/0/100350/nanofilter-Filter_OSSFelectron/Electron_pt',\n",
       " '000101891860396e11eab55d88a0a983beef/Events/0/100350/nanofilter-Filter_OSSFelectron/_num',\n",
       " '000101891860396e11eab55d88a0a983beef/Events/0/100350/nanofilter-Filter_OSSFelectron/nElectron',\n",
       " '000101891860396e11eab55d88a0a983beef/Events/100350/200700/file/Electron_charge',\n",
       " '000101891860396e11eab55d88a0a983beef/Events/100350/200700/file/Electron_eta',\n",
       " '000101891860396e11eab55d88a0a983beef/Events/100350/200700/file/Electron_mass',\n",
       " '000101891860396e11eab55d88a0a983beef/Events/100350/200700/file/Electron_phi',\n",
       " '000101891860396e11eab55d88a0a983beef/Events/100350/200700/file/Electron_pt',\n",
       " '000101891860396e11eab55d88a0a983beef/Events/100350/200700/file/_num',\n",
       " '000101891860396e11eab55d88a0a983beef/Events/100350/200700/file/nElectron',\n",
       " '000101891860396e11eab55d88a0a983beef/Events/100350/200700/filterossf/Filter_OSSFelectron',\n",
       " '000101891860396e11eab55d88a0a983beef/Events/100350/200700/nanofilter-Filter_OSSFelectron/Electron_eta',\n",
       " '000101891860396e11eab55d88a0a983beef/Events/100350/200700/nanofilter-Filter_OSSFelectron/Electron_mass',\n",
       " '000101891860396e11eab55d88a0a983beef/Events/100350/200700/nanofilter-Filter_OSSFelectron/Electron_phi',\n",
       " '000101891860396e11eab55d88a0a983beef/Events/100350/200700/nanofilter-Filter_OSSFelectron/Electron_pt',\n",
       " '000101891860396e11eab55d88a0a983beef/Events/100350/200700/nanofilter-Filter_OSSFelectron/_num',\n",
       " '000101891860396e11eab55d88a0a983beef/Events/100350/200700/nanofilter-Filter_OSSFelectron/nElectron',\n",
       " '000101891860396e11eab55d88a0a983beef/Events/200700/301050/file/Electron_charge',\n",
       " '000101891860396e11eab55d88a0a983beef/Events/200700/301050/file/Electron_eta',\n",
       " '000101891860396e11eab55d88a0a983beef/Events/200700/301050/file/Electron_mass',\n",
       " '000101891860396e11eab55d88a0a983beef/Events/200700/301050/file/Electron_phi',\n",
       " '000101891860396e11eab55d88a0a983beef/Events/200700/301050/file/Electron_pt',\n",
       " '000101891860396e11eab55d88a0a983beef/Events/200700/301050/file/_num',\n",
       " '000101891860396e11eab55d88a0a983beef/Events/200700/301050/file/nElectron',\n",
       " '000101891860396e11eab55d88a0a983beef/Events/200700/301050/filterossf/Filter_OSSFelectron',\n",
       " '000101891860396e11eab55d88a0a983beef/Events/200700/301050/nanofilter-Filter_OSSFelectron/Electron_eta',\n",
       " '000101891860396e11eab55d88a0a983beef/Events/200700/301050/nanofilter-Filter_OSSFelectron/Electron_mass',\n",
       " '000101891860396e11eab55d88a0a983beef/Events/200700/301050/nanofilter-Filter_OSSFelectron/Electron_phi',\n",
       " '000101891860396e11eab55d88a0a983beef/Events/200700/301050/nanofilter-Filter_OSSFelectron/Electron_pt',\n",
       " '000101891860396e11eab55d88a0a983beef/Events/200700/301050/nanofilter-Filter_OSSFelectron/_num',\n",
       " '000101891860396e11eab55d88a0a983beef/Events/200700/301050/nanofilter-Filter_OSSFelectron/nElectron',\n",
       " '000101891860396e11eab55d88a0a983beef/Events/301050/401400/file/Electron_charge',\n",
       " '000101891860396e11eab55d88a0a983beef/Events/301050/401400/file/Electron_eta',\n",
       " '000101891860396e11eab55d88a0a983beef/Events/301050/401400/file/Electron_mass',\n",
       " '000101891860396e11eab55d88a0a983beef/Events/301050/401400/file/Electron_phi',\n",
       " '000101891860396e11eab55d88a0a983beef/Events/301050/401400/file/Electron_pt',\n",
       " '000101891860396e11eab55d88a0a983beef/Events/301050/401400/file/_num',\n",
       " '000101891860396e11eab55d88a0a983beef/Events/301050/401400/file/nElectron',\n",
       " '000101891860396e11eab55d88a0a983beef/Events/301050/401400/filterossf/Filter_OSSFelectron',\n",
       " '000101891860396e11eab55d88a0a983beef/Events/301050/401400/nanofilter-Filter_OSSFelectron/Electron_eta',\n",
       " '000101891860396e11eab55d88a0a983beef/Events/301050/401400/nanofilter-Filter_OSSFelectron/Electron_mass',\n",
       " '000101891860396e11eab55d88a0a983beef/Events/301050/401400/nanofilter-Filter_OSSFelectron/Electron_phi',\n",
       " '000101891860396e11eab55d88a0a983beef/Events/301050/401400/nanofilter-Filter_OSSFelectron/Electron_pt',\n",
       " '000101891860396e11eab55d88a0a983beef/Events/301050/401400/nanofilter-Filter_OSSFelectron/_num',\n",
       " '000101891860396e11eab55d88a0a983beef/Events/301050/401400/nanofilter-Filter_OSSFelectron/nElectron',\n",
       " '000101891860396e11eab55d88a0a983beef/Events/401400/501750/file/Electron_charge',\n",
       " '000101891860396e11eab55d88a0a983beef/Events/401400/501750/file/Electron_eta',\n",
       " '000101891860396e11eab55d88a0a983beef/Events/401400/501750/file/Electron_mass',\n",
       " '000101891860396e11eab55d88a0a983beef/Events/401400/501750/file/Electron_phi',\n",
       " '000101891860396e11eab55d88a0a983beef/Events/401400/501750/file/Electron_pt',\n",
       " '000101891860396e11eab55d88a0a983beef/Events/401400/501750/file/_num',\n",
       " '000101891860396e11eab55d88a0a983beef/Events/401400/501750/file/nElectron',\n",
       " '000101891860396e11eab55d88a0a983beef/Events/401400/501750/filterossf/Filter_OSSFelectron',\n",
       " '000101891860396e11eab55d88a0a983beef/Events/401400/501750/nanofilter-Filter_OSSFelectron/Electron_eta',\n",
       " '000101891860396e11eab55d88a0a983beef/Events/401400/501750/nanofilter-Filter_OSSFelectron/Electron_mass',\n",
       " '000101891860396e11eab55d88a0a983beef/Events/401400/501750/nanofilter-Filter_OSSFelectron/Electron_phi',\n",
       " '000101891860396e11eab55d88a0a983beef/Events/401400/501750/nanofilter-Filter_OSSFelectron/Electron_pt',\n",
       " '000101891860396e11eab55d88a0a983beef/Events/401400/501750/nanofilter-Filter_OSSFelectron/_num',\n",
       " '000101891860396e11eab55d88a0a983beef/Events/401400/501750/nanofilter-Filter_OSSFelectron/nElectron',\n",
       " '000101891860396e11eab55d88a0a983beef/Events/501750/602100/file/Electron_charge',\n",
       " '000101891860396e11eab55d88a0a983beef/Events/501750/602100/file/Electron_eta',\n",
       " '000101891860396e11eab55d88a0a983beef/Events/501750/602100/file/Electron_mass',\n",
       " '000101891860396e11eab55d88a0a983beef/Events/501750/602100/file/Electron_phi',\n",
       " '000101891860396e11eab55d88a0a983beef/Events/501750/602100/file/Electron_pt',\n",
       " '000101891860396e11eab55d88a0a983beef/Events/501750/602100/file/_num',\n",
       " '000101891860396e11eab55d88a0a983beef/Events/501750/602100/file/nElectron',\n",
       " '000101891860396e11eab55d88a0a983beef/Events/501750/602100/filterossf/Filter_OSSFelectron',\n",
       " '000101891860396e11eab55d88a0a983beef/Events/501750/602100/nanofilter-Filter_OSSFelectron/Electron_eta',\n",
       " '000101891860396e11eab55d88a0a983beef/Events/501750/602100/nanofilter-Filter_OSSFelectron/Electron_mass',\n",
       " '000101891860396e11eab55d88a0a983beef/Events/501750/602100/nanofilter-Filter_OSSFelectron/Electron_phi',\n",
       " '000101891860396e11eab55d88a0a983beef/Events/501750/602100/nanofilter-Filter_OSSFelectron/Electron_pt',\n",
       " '000101891860396e11eab55d88a0a983beef/Events/501750/602100/nanofilter-Filter_OSSFelectron/_num',\n",
       " '000101891860396e11eab55d88a0a983beef/Events/501750/602100/nanofilter-Filter_OSSFelectron/nElectron',\n",
       " '000101891860396e11eab55d88a0a983beef/Events/602100/702450/file/Electron_charge',\n",
       " '000101891860396e11eab55d88a0a983beef/Events/602100/702450/file/Electron_phi',\n",
       " '000101891860396e11eab55d88a0a983beef/Events/602100/702450/nanofilter-Filter_OSSFelectron/_num',\n",
       " '000101891860396e11eab55d88a0a983beef/Events/602100/702450/nanofilter-Filter_OSSFelectron/nElectron',\n",
       " '000101891860396e11eab55d88a0a983beef/Events/702450/802800/file/Electron_charge',\n",
       " '000101891860396e11eab55d88a0a983beef/Events/702450/802800/file/Electron_phi',\n",
       " '000101891860396e11eab55d88a0a983beef/Events/702450/802800/nanofilter-Filter_OSSFelectron/Electron_phi',\n",
       " '000101891860396e11eab55d88a0a983beef/Events/702450/802800/nanofilter-Filter_OSSFelectron/_num',\n",
       " '000101891860396e11eab55d88a0a983beef/Events/702450/802800/nanofilter-Filter_OSSFelectron/nElectron',\n",
       " '000101891860396e11eab55d88a0a983beef/Events/802800/903150/file/Electron_charge',\n",
       " '000101891860396e11eab55d88a0a983beef/Events/802800/903150/nanofilter-Filter_OSSFelectron/_num',\n",
       " '000101891860396e11eab55d88a0a983beef/Events/802800/903150/nanofilter-Filter_OSSFelectron/nElectron',\n",
       " '000101891860396e11eab55d88a0a983beef/Events/903150/1003500/file/Electron_charge',\n",
       " '000101891860396e11eab55d88a0a983beef/Events/903150/1003500/nanofilter-Filter_OSSFelectron/_num',\n",
       " '000101891860396e11eab55d88a0a983beef/Events/903150/1003500/nanofilter-Filter_OSSFelectron/nElectron',\n",
       " '000144930e8421a111eaa4e61abde183beef/Events/0/100710/file/Electron_charge',\n",
       " '000144930e8421a111eaa4e61abde183beef/Events/0/100710/file/Electron_eta',\n",
       " '000144930e8421a111eaa4e61abde183beef/Events/0/100710/file/Electron_mass',\n",
       " '000144930e8421a111eaa4e61abde183beef/Events/0/100710/file/Electron_phi',\n",
       " '000144930e8421a111eaa4e61abde183beef/Events/0/100710/file/Electron_pt',\n",
       " '000144930e8421a111eaa4e61abde183beef/Events/0/100710/file/_num',\n",
       " '000144930e8421a111eaa4e61abde183beef/Events/0/100710/file/nElectron',\n",
       " '000144930e8421a111eaa4e61abde183beef/Events/0/100710/filterossf/Filter_OSSFelectron',\n",
       " '000144930e8421a111eaa4e61abde183beef/Events/0/100710/nanofilter-Filter_OSSFelectron/Electron_eta',\n",
       " '000144930e8421a111eaa4e61abde183beef/Events/0/100710/nanofilter-Filter_OSSFelectron/Electron_mass',\n",
       " '000144930e8421a111eaa4e61abde183beef/Events/0/100710/nanofilter-Filter_OSSFelectron/Electron_phi',\n",
       " '000144930e8421a111eaa4e61abde183beef/Events/0/100710/nanofilter-Filter_OSSFelectron/Electron_pt',\n",
       " '000144930e8421a111eaa4e61abde183beef/Events/0/100710/nanofilter-Filter_OSSFelectron/_num',\n",
       " '000144930e8421a111eaa4e61abde183beef/Events/0/100710/nanofilter-Filter_OSSFelectron/nElectron',\n",
       " '000144930e8421a111eaa4e61abde183beef/Events/100710/201420/file/Electron_charge',\n",
       " '000144930e8421a111eaa4e61abde183beef/Events/100710/201420/file/Electron_eta',\n",
       " '000144930e8421a111eaa4e61abde183beef/Events/100710/201420/file/Electron_mass',\n",
       " '000144930e8421a111eaa4e61abde183beef/Events/100710/201420/file/Electron_phi',\n",
       " '000144930e8421a111eaa4e61abde183beef/Events/100710/201420/file/Electron_pt',\n",
       " '000144930e8421a111eaa4e61abde183beef/Events/100710/201420/file/_num',\n",
       " '000144930e8421a111eaa4e61abde183beef/Events/100710/201420/file/nElectron',\n",
       " '000144930e8421a111eaa4e61abde183beef/Events/100710/201420/filterossf/Filter_OSSFelectron',\n",
       " '000144930e8421a111eaa4e61abde183beef/Events/100710/201420/nanofilter-Filter_OSSFelectron/Electron_eta',\n",
       " '000144930e8421a111eaa4e61abde183beef/Events/100710/201420/nanofilter-Filter_OSSFelectron/Electron_mass',\n",
       " '000144930e8421a111eaa4e61abde183beef/Events/100710/201420/nanofilter-Filter_OSSFelectron/Electron_phi',\n",
       " '000144930e8421a111eaa4e61abde183beef/Events/100710/201420/nanofilter-Filter_OSSFelectron/Electron_pt',\n",
       " '000144930e8421a111eaa4e61abde183beef/Events/100710/201420/nanofilter-Filter_OSSFelectron/_num',\n",
       " '000144930e8421a111eaa4e61abde183beef/Events/100710/201420/nanofilter-Filter_OSSFelectron/nElectron',\n",
       " '000144930e8421a111eaa4e61abde183beef/Events/201420/302130/file/Electron_charge',\n",
       " '000144930e8421a111eaa4e61abde183beef/Events/201420/302130/file/Electron_eta',\n",
       " '000144930e8421a111eaa4e61abde183beef/Events/201420/302130/file/Electron_mass',\n",
       " '000144930e8421a111eaa4e61abde183beef/Events/201420/302130/file/Electron_phi',\n",
       " '000144930e8421a111eaa4e61abde183beef/Events/201420/302130/file/Electron_pt',\n",
       " '000144930e8421a111eaa4e61abde183beef/Events/201420/302130/file/_num',\n",
       " '000144930e8421a111eaa4e61abde183beef/Events/201420/302130/file/nElectron',\n",
       " '000144930e8421a111eaa4e61abde183beef/Events/201420/302130/filterossf/Filter_OSSFelectron',\n",
       " '000144930e8421a111eaa4e61abde183beef/Events/201420/302130/nanofilter-Filter_OSSFelectron/Electron_eta',\n",
       " '000144930e8421a111eaa4e61abde183beef/Events/201420/302130/nanofilter-Filter_OSSFelectron/Electron_mass',\n",
       " '000144930e8421a111eaa4e61abde183beef/Events/201420/302130/nanofilter-Filter_OSSFelectron/Electron_phi',\n",
       " '000144930e8421a111eaa4e61abde183beef/Events/201420/302130/nanofilter-Filter_OSSFelectron/Electron_pt',\n",
       " '000144930e8421a111eaa4e61abde183beef/Events/201420/302130/nanofilter-Filter_OSSFelectron/_num',\n",
       " '000144930e8421a111eaa4e61abde183beef/Events/201420/302130/nanofilter-Filter_OSSFelectron/nElectron',\n",
       " '000144930e8421a111eaa4e61abde183beef/Events/302130/402840/file/Electron_charge',\n",
       " '000144930e8421a111eaa4e61abde183beef/Events/302130/402840/file/Electron_eta',\n",
       " '000144930e8421a111eaa4e61abde183beef/Events/302130/402840/file/Electron_mass',\n",
       " '000144930e8421a111eaa4e61abde183beef/Events/302130/402840/file/Electron_phi',\n",
       " '000144930e8421a111eaa4e61abde183beef/Events/302130/402840/file/Electron_pt',\n",
       " '000144930e8421a111eaa4e61abde183beef/Events/302130/402840/file/_num',\n",
       " '000144930e8421a111eaa4e61abde183beef/Events/302130/402840/file/nElectron',\n",
       " '000144930e8421a111eaa4e61abde183beef/Events/302130/402840/filterossf/Filter_OSSFelectron',\n",
       " '000144930e8421a111eaa4e61abde183beef/Events/302130/402840/nanofilter-Filter_OSSFelectron/Electron_eta',\n",
       " '000144930e8421a111eaa4e61abde183beef/Events/302130/402840/nanofilter-Filter_OSSFelectron/Electron_mass',\n",
       " '000144930e8421a111eaa4e61abde183beef/Events/302130/402840/nanofilter-Filter_OSSFelectron/Electron_phi',\n",
       " '000144930e8421a111eaa4e61abde183beef/Events/302130/402840/nanofilter-Filter_OSSFelectron/Electron_pt',\n",
       " '000144930e8421a111eaa4e61abde183beef/Events/302130/402840/nanofilter-Filter_OSSFelectron/_num',\n",
       " '000144930e8421a111eaa4e61abde183beef/Events/302130/402840/nanofilter-Filter_OSSFelectron/nElectron',\n",
       " '000144930e8421a111eaa4e61abde183beef/Events/402840/503550/file/Electron_charge',\n",
       " '000144930e8421a111eaa4e61abde183beef/Events/402840/503550/file/Electron_eta',\n",
       " '000144930e8421a111eaa4e61abde183beef/Events/402840/503550/file/Electron_mass',\n",
       " '000144930e8421a111eaa4e61abde183beef/Events/402840/503550/file/Electron_phi',\n",
       " '000144930e8421a111eaa4e61abde183beef/Events/402840/503550/file/Electron_pt',\n",
       " '000144930e8421a111eaa4e61abde183beef/Events/402840/503550/file/_num',\n",
       " '000144930e8421a111eaa4e61abde183beef/Events/402840/503550/file/nElectron',\n",
       " '000144930e8421a111eaa4e61abde183beef/Events/402840/503550/filterossf/Filter_OSSFelectron',\n",
       " '000144930e8421a111eaa4e61abde183beef/Events/402840/503550/nanofilter-Filter_OSSFelectron/Electron_eta',\n",
       " '000144930e8421a111eaa4e61abde183beef/Events/402840/503550/nanofilter-Filter_OSSFelectron/Electron_mass',\n",
       " '000144930e8421a111eaa4e61abde183beef/Events/402840/503550/nanofilter-Filter_OSSFelectron/Electron_phi',\n",
       " '000144930e8421a111eaa4e61abde183beef/Events/402840/503550/nanofilter-Filter_OSSFelectron/Electron_pt',\n",
       " '000144930e8421a111eaa4e61abde183beef/Events/402840/503550/nanofilter-Filter_OSSFelectron/_num',\n",
       " '000144930e8421a111eaa4e61abde183beef/Events/402840/503550/nanofilter-Filter_OSSFelectron/nElectron',\n",
       " '00016b5b0554398811ea89662ca0a983beef/Events/0/101640/file/Electron_charge',\n",
       " '00016b5b0554398811ea89662ca0a983beef/Events/0/101640/file/Electron_eta',\n",
       " '00016b5b0554398811ea89662ca0a983beef/Events/0/101640/file/Electron_mass',\n",
       " '00016b5b0554398811ea89662ca0a983beef/Events/0/101640/file/Electron_phi',\n",
       " '00016b5b0554398811ea89662ca0a983beef/Events/0/101640/file/Electron_pt',\n",
       " '00016b5b0554398811ea89662ca0a983beef/Events/0/101640/file/_num',\n",
       " '00016b5b0554398811ea89662ca0a983beef/Events/0/101640/file/nElectron',\n",
       " '00016b5b0554398811ea89662ca0a983beef/Events/0/101640/filterossf/Filter_OSSFelectron',\n",
       " '00016b5b0554398811ea89662ca0a983beef/Events/0/101640/nanofilter-Filter_OSSFelectron/Electron_eta',\n",
       " '00016b5b0554398811ea89662ca0a983beef/Events/0/101640/nanofilter-Filter_OSSFelectron/Electron_mass',\n",
       " '00016b5b0554398811ea89662ca0a983beef/Events/0/101640/nanofilter-Filter_OSSFelectron/Electron_phi',\n",
       " '00016b5b0554398811ea89662ca0a983beef/Events/0/101640/nanofilter-Filter_OSSFelectron/Electron_pt',\n",
       " '00016b5b0554398811ea89662ca0a983beef/Events/0/101640/nanofilter-Filter_OSSFelectron/_num',\n",
       " '00016b5b0554398811ea89662ca0a983beef/Events/0/101640/nanofilter-Filter_OSSFelectron/nElectron',\n",
       " '00016b5b0554398811ea89662ca0a983beef/Events/101640/191940/file/Electron_charge',\n",
       " '00016b5b0554398811ea89662ca0a983beef/Events/101640/191940/file/Electron_eta',\n",
       " '00016b5b0554398811ea89662ca0a983beef/Events/101640/191940/file/Electron_mass',\n",
       " '00016b5b0554398811ea89662ca0a983beef/Events/101640/191940/file/Electron_phi',\n",
       " '00016b5b0554398811ea89662ca0a983beef/Events/101640/191940/file/Electron_pt',\n",
       " '00016b5b0554398811ea89662ca0a983beef/Events/101640/191940/file/_num',\n",
       " '00016b5b0554398811ea89662ca0a983beef/Events/101640/191940/file/nElectron',\n",
       " '00016b5b0554398811ea89662ca0a983beef/Events/101640/191940/filterossf/Filter_OSSFelectron',\n",
       " '00016b5b0554398811ea89662ca0a983beef/Events/101640/191940/nanofilter-Filter_OSSFelectron/Electron_eta',\n",
       " '00016b5b0554398811ea89662ca0a983beef/Events/101640/191940/nanofilter-Filter_OSSFelectron/Electron_mass',\n",
       " '00016b5b0554398811ea89662ca0a983beef/Events/101640/191940/nanofilter-Filter_OSSFelectron/Electron_phi',\n",
       " '00016b5b0554398811ea89662ca0a983beef/Events/101640/191940/nanofilter-Filter_OSSFelectron/Electron_pt',\n",
       " '00016b5b0554398811ea89662ca0a983beef/Events/101640/191940/nanofilter-Filter_OSSFelectron/_num',\n",
       " '00016b5b0554398811ea89662ca0a983beef/Events/101640/191940/nanofilter-Filter_OSSFelectron/nElectron',\n",
       " 'generator/385b38611d60b213352e18ac6a11e551565e3d9e903c72a11f3e64b6b592ba83',\n",
       " 'generator/6457af2d900cb56dd2fd265908e505053b746a419cb7c6eb491abfcc867384d1',\n",
       " 'generator/7ef98a3edebac4ecb94b6b848f435e096edc8228f5ee011bbb022f425cfe5bc9',\n",
       " 'generator/b60836742c7b340d1b9712e89432a6c2e444801052b29e97159a62092ff8c124',\n",
       " 'generator/bd948e86fbe1933f7651f2b98cbae54cea7c928df3202fa7947ee185ce2dd0de',\n",
       " 'generator/ecbb1cc5ddf8a36135517652cee2ced0c67aebf7f5480fffc3a86e8fab0017dd']"
      ]
     },
     "execution_count": 75,
     "metadata": {},
     "output_type": "execute_result"
    }
   ],
   "source": [
    "[k for k in cc.storage]"
   ]
  },
  {
   "cell_type": "code",
   "execution_count": null,
   "metadata": {},
   "outputs": [],
   "source": []
  }
 ],
 "metadata": {
  "kernelspec": {
   "display_name": "Python 3",
   "language": "python",
   "name": "python3"
  },
  "language_info": {
   "codemirror_mode": {
    "name": "ipython",
    "version": 3
   },
   "file_extension": ".py",
   "mimetype": "text/x-python",
   "name": "python",
   "nbconvert_exporter": "python",
   "pygments_lexer": "ipython3",
   "version": "3.7.6"
  }
 },
 "nbformat": 4,
 "nbformat_minor": 2
}
